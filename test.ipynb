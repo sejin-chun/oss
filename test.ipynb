{
  "nbformat": 4,
  "nbformat_minor": 0,
  "metadata": {
    "colab": {
      "name": "Untitled11.ipynb",
      "provenance": [],
      "authorship_tag": "ABX9TyMB3R2UQ/S+X78mXtf+/KAH",
      "include_colab_link": true
    },
    "kernelspec": {
      "name": "python3",
      "display_name": "Python 3"
    },
    "language_info": {
      "name": "python"
    }
  },
  "cells": [
    {
      "cell_type": "markdown",
      "metadata": {
        "id": "view-in-github",
        "colab_type": "text"
      },
      "source": [
        "<a href=\"https://colab.research.google.com/github/sejin-chun/oss/blob/main/test.ipynb\" target=\"_parent\"><img src=\"https://colab.research.google.com/assets/colab-badge.svg\" alt=\"Open In Colab\"/></a>"
      ]
    },
    {
      "cell_type": "markdown",
      "source": [
        "# 캘리포니아 집값 분석\n",
        "\n",
        "$ price(age) = e^1 * 100 $"
      ],
      "metadata": {
        "id": "fU0XziXhPc8m"
      }
    },
    {
      "cell_type": "code",
      "execution_count": 1,
      "metadata": {
        "colab": {
          "base_uri": "https://localhost:8080/"
        },
        "id": "7cxNM6K_PTcu",
        "outputId": "c91c18fc-f2ff-40e7-8745-39393f8575f2"
      },
      "outputs": [
        {
          "output_type": "execute_result",
          "data": {
            "text/plain": [
              "100"
            ]
          },
          "metadata": {},
          "execution_count": 1
        }
      ],
      "source": [
        "california_house_price = 100\n",
        "california_house_price"
      ]
    },
    {
      "cell_type": "markdown",
      "source": [
        "## 사람들의 주거형태 분석"
      ],
      "metadata": {
        "id": "H3rWF_3qQENl"
      }
    },
    {
      "cell_type": "code",
      "source": [
        "/content/sample_data/california_housing_test.csv"
      ],
      "metadata": {
        "id": "nsnQZmuCQzHX"
      },
      "execution_count": null,
      "outputs": []
    }
  ]
}